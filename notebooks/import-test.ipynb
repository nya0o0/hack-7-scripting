{
 "cells": [
  {
   "cell_type": "code",
   "execution_count": 22,
   "id": "2ef7e755-c894-4771-91f2-a64210d5a117",
   "metadata": {},
   "outputs": [],
   "source": [
    "import sys"
   ]
  },
  {
   "cell_type": "code",
   "execution_count": 23,
   "id": "03712eb4-8577-405b-accf-29f39444c331",
   "metadata": {},
   "outputs": [
    {
     "name": "stdout",
     "output_type": "stream",
     "text": [
      "['/home/nya0o0/miniconda3/lib/python312.zip', '/home/nya0o0/miniconda3/lib/python3.12', '/home/nya0o0/miniconda3/lib/python3.12/lib-dynload', '', '/home/nya0o0/miniconda3/lib/python3.12/site-packages', '../']\n"
     ]
    }
   ],
   "source": [
    "# Print the origin modules locations\n",
    "print(sys.path)"
   ]
  },
  {
   "cell_type": "code",
   "execution_count": 5,
   "id": "7bcf0892-1791-4790-ac84-c107a4894b5c",
   "metadata": {},
   "outputs": [],
   "source": [
    "# append the current parent dir to the sys.path list\n",
    "sys.path.append(\"../\")"
   ]
  },
  {
   "cell_type": "code",
   "execution_count": 6,
   "id": "1a9a6dd1-7c65-402d-91b6-006cdcea6496",
   "metadata": {},
   "outputs": [
    {
     "name": "stdout",
     "output_type": "stream",
     "text": [
      "['/home/nya0o0/miniconda3/lib/python312.zip', '/home/nya0o0/miniconda3/lib/python3.12', '/home/nya0o0/miniconda3/lib/python3.12/lib-dynload', '', '/home/nya0o0/miniconda3/lib/python3.12/site-packages', '../']\n"
     ]
    }
   ],
   "source": [
    "# show the updated sys.path \n",
    "print(sys.path)"
   ]
  },
  {
   "cell_type": "code",
   "execution_count": 12,
   "id": "f5d0f635-824c-4229-ae7f-30b072a440b4",
   "metadata": {},
   "outputs": [
    {
     "data": {
      "text/plain": [
       "'Better not tell you now.'"
      ]
     },
     "execution_count": 12,
     "metadata": {},
     "output_type": "execute_result"
    }
   ],
   "source": [
    "import mypackage.mymodule\n",
    "mypackage.mymodule.magic_eight_ball()"
   ]
  },
  {
   "cell_type": "code",
   "execution_count": 11,
   "id": "8e81733a-cce0-4979-9e3c-2b66fffa338f",
   "metadata": {},
   "outputs": [
    {
     "data": {
      "text/plain": [
       "'Without a doubt.'"
      ]
     },
     "execution_count": 11,
     "metadata": {},
     "output_type": "execute_result"
    }
   ],
   "source": [
    "from mypackage import mymodule\n",
    "mymodule.magic_eight_ball()"
   ]
  },
  {
   "cell_type": "code",
   "execution_count": 14,
   "id": "852620de-fb88-4bc3-8730-b09f961bdc85",
   "metadata": {},
   "outputs": [
    {
     "data": {
      "text/plain": [
       "'Reply hazy, try again.'"
      ]
     },
     "execution_count": 14,
     "metadata": {},
     "output_type": "execute_result"
    }
   ],
   "source": [
    "from mypackage.mymodule import magic_eight_ball\n",
    "magic_eight_ball()"
   ]
  },
  {
   "cell_type": "code",
   "execution_count": 17,
   "id": "83455a02-05f3-42a9-98f9-4affb1072c2c",
   "metadata": {},
   "outputs": [
    {
     "data": {
      "text/plain": [
       "'It is certain.'"
      ]
     },
     "execution_count": 17,
     "metadata": {},
     "output_type": "execute_result"
    }
   ],
   "source": [
    "# this workflow is not yet supported\n",
    "import mypackage\n",
    "mypackage.mymodule.magic_eight_ball()"
   ]
  },
  {
   "cell_type": "code",
   "execution_count": 20,
   "id": "93d6178a-174a-4424-8304-f2e00cad7d4c",
   "metadata": {},
   "outputs": [
    {
     "data": {
      "text/plain": [
       "'It is decidedly so.'"
      ]
     },
     "execution_count": 20,
     "metadata": {},
     "output_type": "execute_result"
    }
   ],
   "source": [
    "# access our module function from the package-level import\n",
    "import mypackage\n",
    "mypackage.mymodule.magic_eight_ball()"
   ]
  },
  {
   "cell_type": "code",
   "execution_count": 24,
   "id": "f8c3c6ac-0859-465d-8476-2ac2c36e38ab",
   "metadata": {},
   "outputs": [
    {
     "data": {
      "text/plain": [
       "\u001b[0;31mType:\u001b[0m        module\n",
       "\u001b[0;31mString form:\u001b[0m <module 'mypackage' (namespace) from ['/home/nya0o0/hacks/hack-7-scripting/notebooks/../mypackage']>\n",
       "\u001b[0;31mDocstring:\u001b[0m   <no docstring>"
      ]
     },
     "metadata": {},
     "output_type": "display_data"
    }
   ],
   "source": [
    "# show the package-level docstring\n",
    "mypackage?"
   ]
  },
  {
   "cell_type": "code",
   "execution_count": null,
   "id": "c4dab819-5419-4b77-855d-6001ad0be060",
   "metadata": {},
   "outputs": [],
   "source": []
  }
 ],
 "metadata": {
  "kernelspec": {
   "display_name": "Python 3 (ipykernel)",
   "language": "python",
   "name": "python3"
  },
  "language_info": {
   "codemirror_mode": {
    "name": "ipython",
    "version": 3
   },
   "file_extension": ".py",
   "mimetype": "text/x-python",
   "name": "python",
   "nbconvert_exporter": "python",
   "pygments_lexer": "ipython3",
   "version": "3.12.2"
  }
 },
 "nbformat": 4,
 "nbformat_minor": 5
}
